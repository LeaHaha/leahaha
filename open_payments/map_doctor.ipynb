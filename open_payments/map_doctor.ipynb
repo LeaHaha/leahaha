{
 "metadata": {
  "name": "",
  "signature": "sha256:26087eb044d0a8bed97f090f030bb568404576dd1689a2b3b357ea3fa13670d0"
 },
 "nbformat": 3,
 "nbformat_minor": 0,
 "worksheets": [
  {
   "cells": [
    {
     "cell_type": "code",
     "collapsed": false,
     "input": [
      "import pandas as pd\n",
      "from pandas import *\n",
      "import numpy as np\n",
      "from numpy import *"
     ],
     "language": "python",
     "metadata": {},
     "outputs": [],
     "prompt_number": 1
    },
    {
     "cell_type": "code",
     "collapsed": false,
     "input": [
      "app_general = pd.read_csv(\"OPPR_ALL_DTL_GNRL_09302014.csv\")\n",
      "app_research = pd.read_csv(\"OPPR_ALL_DTL_RSRCH_09302014.csv\")\n",
      "app_ownership = pd.read_csv(\"OPPR_ALL_DTL_OWNRSHP_09302014.csv\")\n",
      "app_profile = pd.read_csv(\"OPPR_SPLMTL_PH_PRFL_09302014.csv\")\n",
      "\n",
      "doctor_map = pd.read_csv(\"doc_map.csv\")\n",
      "\n",
      "app_doctor = pd.read_csv(\"dbdoctor.csv\")"
     ],
     "language": "python",
     "metadata": {},
     "outputs": [
      {
       "output_type": "stream",
       "stream": "stderr",
       "text": [
        "/Users/leahjiang/anaconda/lib/python2.7/site-packages/pandas/io/parsers.py:1139: DtypeWarning: Columns (6,9,11,13,16,18,19,23,24,25,26,28,29,30,31,32,33,34,35,36,37,38,39,40,41,42,58,59,60,61) have mixed types. Specify dtype option on import or set low_memory=False.\n",
        "  data = self._reader.read(nrows)\n",
        "/Users/leahjiang/anaconda/lib/python2.7/site-packages/pandas/io/parsers.py:1139: DtypeWarning: Columns (25,33,36,41,42,43,53,61) have mixed types. Specify dtype option on import or set low_memory=False.\n",
        "  data = self._reader.read(nrows)\n"
       ]
      },
      {
       "output_type": "stream",
       "stream": "stderr",
       "text": [
        "/Users/leahjiang/anaconda/lib/python2.7/site-packages/pandas/io/parsers.py:1139: DtypeWarning: Columns (10,25) have mixed types. Specify dtype option on import or set low_memory=False.\n",
        "  data = self._reader.read(nrows)\n",
        "/Users/leahjiang/anaconda/lib/python2.7/site-packages/pandas/io/parsers.py:1139: DtypeWarning: Columns (13,14) have mixed types. Specify dtype option on import or set low_memory=False.\n",
        "  data = self._reader.read(nrows)\n"
       ]
      },
      {
       "output_type": "stream",
       "stream": "stderr",
       "text": [
        "/Users/leahjiang/anaconda/lib/python2.7/site-packages/pandas/io/parsers.py:1139: DtypeWarning: Columns (4,7,11,12,13,14,15,16,17,22,23,26,27,29,32,33,35,36,38,39,40,41,42,44,45,46,47,48,49,50,51,52,56,57,63,64,67,68,69,70,71,72,73,74,76,78,80,82,93,102,104,105,106,107,108,109,110,111,114,118,125,128,133,135,136,137) have mixed types. Specify dtype option on import or set low_memory=False.\n",
        "  data = self._reader.read(nrows)\n"
       ]
      }
     ],
     "prompt_number": 2
    },
    {
     "cell_type": "code",
     "collapsed": false,
     "input": [
      "general = app_general\n",
      "research = app_research\n",
      "ownership = app_ownership\n",
      "profile = app_profile\n",
      "fullmap = doctor_map.drop('Unnamed: 0',1)\n",
      "doctors = app_doctor.drop('Unnamed: 0',1)"
     ],
     "language": "python",
     "metadata": {},
     "outputs": [],
     "prompt_number": 3
    },
    {
     "cell_type": "code",
     "collapsed": false,
     "input": [
      "fullmap.head()"
     ],
     "language": "python",
     "metadata": {},
     "outputs": [
      {
       "html": [
        "<div style=\"max-height:1000px;max-width:1500px;overflow:auto;\">\n",
        "<table border=\"1\" class=\"dataframe\">\n",
        "  <thead>\n",
        "    <tr style=\"text-align: right;\">\n",
        "      <th></th>\n",
        "      <th>first_last</th>\n",
        "      <th>middle_name</th>\n",
        "      <th>Physician_Profile_Middle_Name</th>\n",
        "      <th>suffix</th>\n",
        "      <th>Physician_Profile_Suffix_Name</th>\n",
        "      <th>full_name</th>\n",
        "      <th>npi</th>\n",
        "      <th>Physician_Profile_ID</th>\n",
        "      <th>mailing_city</th>\n",
        "      <th>Physician_Profile_City</th>\n",
        "      <th>mailing_state</th>\n",
        "      <th>Physician_Profile_State</th>\n",
        "      <th>mailing_zip</th>\n",
        "      <th>Physician_Profile_Zip_Code</th>\n",
        "      <th>Physician_ID</th>\n",
        "    </tr>\n",
        "  </thead>\n",
        "  <tbody>\n",
        "    <tr>\n",
        "      <th>0</th>\n",
        "      <td>        samit shah</td>\n",
        "      <td> NaN</td>\n",
        "      <td> NaN</td>\n",
        "      <td> NaN</td>\n",
        "      <td> NaN</td>\n",
        "      <td>          Samit  Shah</td>\n",
        "      <td> 1003040254</td>\n",
        "      <td> 253340</td>\n",
        "      <td>     NaN</td>\n",
        "      <td>       NEW YORK</td>\n",
        "      <td> NaN</td>\n",
        "      <td>  NY</td>\n",
        "      <td>   NaN</td>\n",
        "      <td> 10016</td>\n",
        "      <td> 298314</td>\n",
        "    </tr>\n",
        "    <tr>\n",
        "      <th>1</th>\n",
        "      <td>       tracy leong</td>\n",
        "      <td> NaN</td>\n",
        "      <td> NaN</td>\n",
        "      <td> NaN</td>\n",
        "      <td> NaN</td>\n",
        "      <td>         Tracy  Leong</td>\n",
        "      <td> 1003133216</td>\n",
        "      <td> 159734</td>\n",
        "      <td>     NaN</td>\n",
        "      <td>     LOMA LINDA</td>\n",
        "      <td> NaN</td>\n",
        "      <td>  CA</td>\n",
        "      <td>   NaN</td>\n",
        "      <td> 92354</td>\n",
        "      <td> 339681</td>\n",
        "    </tr>\n",
        "    <tr>\n",
        "      <th>2</th>\n",
        "      <td> aradhana aggarwal</td>\n",
        "      <td> NaN</td>\n",
        "      <td> NaN</td>\n",
        "      <td> NaN</td>\n",
        "      <td> NaN</td>\n",
        "      <td>   Aradhana  Aggarwal</td>\n",
        "      <td> 1003160623</td>\n",
        "      <td> 345520</td>\n",
        "      <td>     NaN</td>\n",
        "      <td> PORT JEFFERSON</td>\n",
        "      <td> NaN</td>\n",
        "      <td>  NY</td>\n",
        "      <td>   NaN</td>\n",
        "      <td> 11777</td>\n",
        "      <td>  23462</td>\n",
        "    </tr>\n",
        "    <tr>\n",
        "      <th>3</th>\n",
        "      <td>    william martin</td>\n",
        "      <td> NaN</td>\n",
        "      <td> NaN</td>\n",
        "      <td> NaN</td>\n",
        "      <td> NaN</td>\n",
        "      <td>       William Martin</td>\n",
        "      <td> 1003181231</td>\n",
        "      <td> 261351</td>\n",
        "      <td> Atlanta</td>\n",
        "      <td> SOUTH PASADENA</td>\n",
        "      <td>  GA</td>\n",
        "      <td> NaN</td>\n",
        "      <td> 30327</td>\n",
        "      <td> 91030</td>\n",
        "      <td> 352771</td>\n",
        "    </tr>\n",
        "    <tr>\n",
        "      <th>4</th>\n",
        "      <td>     matthew myers</td>\n",
        "      <td> NaN</td>\n",
        "      <td> NaN</td>\n",
        "      <td> NaN</td>\n",
        "      <td> NaN</td>\n",
        "      <td> Matthew Martin Myers</td>\n",
        "      <td> 1003840240</td>\n",
        "      <td> 435731</td>\n",
        "      <td>  Tupelo</td>\n",
        "      <td>    ALBUQUERQUE</td>\n",
        "      <td>  MS</td>\n",
        "      <td> NaN</td>\n",
        "      <td> 38803</td>\n",
        "      <td> 87131</td>\n",
        "      <td> 221376</td>\n",
        "    </tr>\n",
        "  </tbody>\n",
        "</table>\n",
        "</div>"
       ],
       "metadata": {},
       "output_type": "pyout",
       "prompt_number": 4,
       "text": [
        "          first_last middle_name Physician_Profile_Middle_Name suffix  \\\n",
        "0         samit shah         NaN                           NaN    NaN   \n",
        "1        tracy leong         NaN                           NaN    NaN   \n",
        "2  aradhana aggarwal         NaN                           NaN    NaN   \n",
        "3     william martin         NaN                           NaN    NaN   \n",
        "4      matthew myers         NaN                           NaN    NaN   \n",
        "\n",
        "  Physician_Profile_Suffix_Name             full_name         npi  \\\n",
        "0                           NaN           Samit  Shah  1003040254   \n",
        "1                           NaN          Tracy  Leong  1003133216   \n",
        "2                           NaN    Aradhana  Aggarwal  1003160623   \n",
        "3                           NaN        William Martin  1003181231   \n",
        "4                           NaN  Matthew Martin Myers  1003840240   \n",
        "\n",
        "   Physician_Profile_ID mailing_city Physician_Profile_City mailing_state  \\\n",
        "0                253340          NaN               NEW YORK           NaN   \n",
        "1                159734          NaN             LOMA LINDA           NaN   \n",
        "2                345520          NaN         PORT JEFFERSON           NaN   \n",
        "3                261351      Atlanta         SOUTH PASADENA            GA   \n",
        "4                435731       Tupelo            ALBUQUERQUE            MS   \n",
        "\n",
        "  Physician_Profile_State mailing_zip Physician_Profile_Zip_Code  Physician_ID  \n",
        "0                      NY         NaN                      10016        298314  \n",
        "1                      CA         NaN                      92354        339681  \n",
        "2                      NY         NaN                      11777         23462  \n",
        "3                     NaN       30327                      91030        352771  \n",
        "4                     NaN       38803                      87131        221376  "
       ]
      }
     ],
     "prompt_number": 4
    },
    {
     "cell_type": "code",
     "collapsed": false,
     "input": [
      "simap = fullmap[['npi','Physician_Profile_ID']]\n",
      "docta = doctors[['npi','full_name']]"
     ],
     "language": "python",
     "metadata": {},
     "outputs": [],
     "prompt_number": 5
    },
    {
     "cell_type": "code",
     "collapsed": false,
     "input": [
      "doctid = merge(docta, simap, how = 'inner', on = 'npi')"
     ],
     "language": "python",
     "metadata": {},
     "outputs": [],
     "prompt_number": 6
    },
    {
     "cell_type": "code",
     "collapsed": false,
     "input": [
      "dg = merge(doctid, general, how = 'inner', on = 'Physician_Profile_ID')\n",
      "dr = merge(doctid, research, how = 'inner', on = 'Physician_Profile_ID')\n",
      "do = merge(doctid, ownership, how = 'inner', on = 'Physician_Profile_ID')\n",
      "dp = merge(doctid, profile, how = 'inner', on = 'Physician_Profile_ID')"
     ],
     "language": "python",
     "metadata": {},
     "outputs": [],
     "prompt_number": 7
    },
    {
     "cell_type": "code",
     "collapsed": false,
     "input": [
      "doct_g = merge(doctid, general, how = 'left', on = 'Physician_Profile_ID')\n",
      "doct_r = merge(doctid, research, how = 'left', on = 'Physician_Profile_ID')\n",
      "doct_o = merge(doctid, ownership, how = 'left', on = 'Physician_Profile_ID')\n",
      "doct_p = merge(doctid, profile, how = 'left', on = 'Physician_Profile_ID')"
     ],
     "language": "python",
     "metadata": {},
     "outputs": [],
     "prompt_number": 8
    },
    {
     "cell_type": "code",
     "collapsed": false,
     "input": [
      "dg.to_csv('openpay_general_1270662.csv',index=False)\n",
      "dr.to_csv('openpay_research_7780.csv',index=False)\n",
      "do.to_csv('openpay_ownership_1753.csv',index=False)\n",
      "dp.to_csv('openpay_profile_150761.csv',index=False)"
     ],
     "language": "python",
     "metadata": {},
     "outputs": [],
     "prompt_number": 18
    },
    {
     "cell_type": "code",
     "collapsed": false,
     "input": [],
     "language": "python",
     "metadata": {},
     "outputs": [],
     "prompt_number": 18
    },
    {
     "cell_type": "code",
     "collapsed": false,
     "input": [
      "#doctorname_map = pd.read_csv(\"doctorname_map.csv\")\n",
      "#doctormap = doctorname_map.drop('Unnamed: 0',1)\n",
      "#sipmap = doctormap[['npi','Physician_Profile_ID','Physician_ID']]\n",
      "#docid = merge(doctors, sipmap, how = 'inner', on = 'npi')\n",
      "#docg = merge(docid, general, how = 'inner', on = 'Physician_Profile_ID')\n",
      "#docr = merge(docid, research, how = 'inner', on = 'Physician_Profile_ID')\n",
      "#docp = merge(docid, ownership, how = 'inner', on = 'Physician_Profile_ID')\n",
      "#doc_g = merge(docid, general, how = 'left', on = 'Physician_Profile_ID')\n",
      "#doc_r = merge(docid, research, how = 'left', on = 'Physician_Profile_ID')\n",
      "#doc_o = merge(docid, ownership, how = 'left', on = 'Physician_Profile_ID')\n",
      "#doc_p = merge(docid, profile, how = 'left', on = 'Physician_Profile_ID')"
     ],
     "language": "python",
     "metadata": {},
     "outputs": [],
     "prompt_number": 83
    },
    {
     "cell_type": "code",
     "collapsed": false,
     "input": [
      "len(do)"
     ],
     "language": "python",
     "metadata": {},
     "outputs": [
      {
       "metadata": {},
       "output_type": "pyout",
       "prompt_number": 10,
       "text": [
        "1766"
       ]
      }
     ],
     "prompt_number": 10
    },
    {
     "cell_type": "code",
     "collapsed": false,
     "input": [
      "len(dp)"
     ],
     "language": "python",
     "metadata": {},
     "outputs": [
      {
       "metadata": {},
       "output_type": "pyout",
       "prompt_number": 11,
       "text": [
        "151165"
       ]
      }
     ],
     "prompt_number": 11
    },
    {
     "cell_type": "code",
     "collapsed": false,
     "input": [
      "len(dg)"
     ],
     "language": "python",
     "metadata": {},
     "outputs": [
      {
       "metadata": {},
       "output_type": "pyout",
       "prompt_number": 12,
       "text": [
        "1272621"
       ]
      }
     ],
     "prompt_number": 12
    },
    {
     "cell_type": "code",
     "collapsed": false,
     "input": [
      "len(dr)"
     ],
     "language": "python",
     "metadata": {},
     "outputs": [
      {
       "metadata": {},
       "output_type": "pyout",
       "prompt_number": 13,
       "text": [
        "7815"
       ]
      }
     ],
     "prompt_number": 13
    },
    {
     "cell_type": "code",
     "collapsed": false,
     "input": [
      "dp.columns"
     ],
     "language": "python",
     "metadata": {},
     "outputs": [
      {
       "metadata": {},
       "output_type": "pyout",
       "prompt_number": 15,
       "text": [
        "Index([u'npi', u'full_name', u'Physician_Profile_ID', u'Physician_ID', u'Physician_Profile_First_Name', u'Physician_Profile_Middle_Name', u'Physician_Profile_Last_Name', u'Physician_Profile_Suffix_Name', u'Physician_Profile_Address1', u'Physician_Profile_Address2', u'Physician_Profile_City', u'Physician_Profile_State', u'Physician_Profile_Zip_Code', u'Physician_Profile_Country', u'Physician_Profile_Province', u'Physician_Registration_Address1', u'Physician_Registration_Address2', u'Physician_Registration_City', u'Physician_Registration_State', u'Physician_Registration_Zip_Code', u'Physician_Registration_Country', u'Physician_Registration_Province', u'Physician_Speciality', u'Physician_Additional_Speciality1', u'Physician_Additional_Speciality2', u'Physician_Additional_Speciality3', u'Physician_Additional_Speciality4', u'Physician_Additional_Speciality5', u'Physician_States_on_Licenses1', u'Physician_States_on_Licenses2', u'Physician_States_on_Licenses3', u'Physician_States_on_Licenses4', u'Physician_States_on_Licenses5'], dtype='object')"
       ]
      }
     ],
     "prompt_number": 15
    },
    {
     "cell_type": "code",
     "collapsed": false,
     "input": [
      "research.columns"
     ],
     "language": "python",
     "metadata": {},
     "outputs": [
      {
       "metadata": {},
       "output_type": "pyout",
       "prompt_number": 10,
       "text": [
        "Index([u'Research_Transaction_ID', u'Program_Year', u'Payment_Publication_Date', u'Submitting_Applicable_Manufacturer_or_Applicable_GPO_Name', u'Covered_Recipient_Type', u'Noncovered_Recipient_Entity_Name', u'Teaching_Hospital_ID', u'Teaching_Hospital_Name', u'Physician_Profile_ID', u'Physician_First_Name', u'Physician_Middle_Name', u'Physician_Last_Name', u'Physician_Name_Suffix', u'Recipient_Primary_Business_Street_Address_Line1', u'Recipient_Primary_Business_Street_Address_Line2', u'Recipient_City', u'Recipient_State', u'Recipient_Zip_Code', u'Recipient_Country', u'Recipient_Province', u'Recipient_Postal_Code', u'Physician_Primary_Type', u'Physician_Specialty', u'Physician_License_State_code1', u'Physician_License_State_code2', u'Physician_License_State_code3', u'Physician_License_State_code4', u'Physician_License_State_code5', u'Product_Indicator', u'Name_of_Associated_Drug_or_Biological1', u'Name_of_Associated_Drug_or_Biological2', u'Name_of_Associated_Drug_or_Biological3', u'Name_of_Associated_Drug_or_Biological4', u'Name_of_Associated_Drug_or_Biological5', u'NDC_of_Associated_Covered_Drug_or_Biological1', u'NDC_of_Associated_Covered_Drug_or_Biological2', u'NDC_of_Associated_Covered_Drug_or_Biological3', u'NDC_of_Associated_Covered_Drug_or_Biological4', u'NDC_of_Associated_Covered_Drug_or_Biological5', u'Name_of_Associated_Covered_Device_or_Medical_Supply1', u'Name_of_Associated_Covered_Device_or_Medical_Supply2', u'Name_of_Associated_Covered_Device_or_Medical_Supply3', u'Name_of_Associated_Covered_Device_or_Medical_Supply4', u'Name_of_Associated_Covered_Device_or_Medical_Supply5', u'Applicable_Manufacturer_or_Applicable_GPO_Making_Payment_ID', u'Applicable_Manufacturer_or_Applicable_GPO_Making_Payment_Name', u'Applicable_Manufacturer_or_Applicable_GPO_Making_Payment_State', u'Applicable_Manufacturer_or_Applicable_GPO_Making_Payment_Country', u'Dispute_Status_for_Publication', u'Total_Amount_of_Payment_USDollars', u'Date_of_Payment', u'Form_of_Payment_or_Transfer_of_Value', u'Expenditure_Category1', u'Expenditure_Category2', u'Expenditure_Category3', u'Expenditure_Category4', u'Expenditure_Category5', u'Preclinical_Research_Indicator', u'Delay_in_Publication_of_Research_Payment_Indicator', u'Name_of_Study', u'Principal_Investigator_Name1', u'Principal_Investigator_Name2', u'Principal_Investigator_Name3', u'Principal_Investigator_Name4', u'Principal_Investigator_Name5', u'ClinicalTrials_Gov_Identifier', u'Research_Information_Link', u'Context_of_Research'], dtype='object')"
       ]
      }
     ],
     "prompt_number": 10
    },
    {
     "cell_type": "code",
     "collapsed": false,
     "input": [],
     "language": "python",
     "metadata": {},
     "outputs": [],
     "prompt_number": 72
    },
    {
     "cell_type": "code",
     "collapsed": false,
     "input": [],
     "language": "python",
     "metadata": {},
     "outputs": [],
     "prompt_number": 72
    },
    {
     "cell_type": "code",
     "collapsed": false,
     "input": [],
     "language": "python",
     "metadata": {},
     "outputs": [],
     "prompt_number": 72
    },
    {
     "cell_type": "code",
     "collapsed": false,
     "input": [],
     "language": "python",
     "metadata": {},
     "outputs": [],
     "prompt_number": 72
    },
    {
     "cell_type": "code",
     "collapsed": false,
     "input": [],
     "language": "python",
     "metadata": {},
     "outputs": [],
     "prompt_number": 72
    },
    {
     "cell_type": "code",
     "collapsed": false,
     "input": [],
     "language": "python",
     "metadata": {},
     "outputs": [],
     "prompt_number": 72
    },
    {
     "cell_type": "code",
     "collapsed": false,
     "input": [],
     "language": "python",
     "metadata": {},
     "outputs": []
    }
   ],
   "metadata": {}
  }
 ]
}